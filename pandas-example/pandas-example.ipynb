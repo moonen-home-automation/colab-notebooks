{
 "cells": [
  {
   "cell_type": "markdown",
   "metadata": {},
   "source": [
    "# Working with Pandas example\n",
    "\n",
    "> This guide assumes that you have set up TimescaleDB with TLSS to export Home Assistant data. For more info check [here](https://nghome.dev/docs/implementation/data_collection/timescale)\n",
    "\n",
    "This notebook shows how you can work with Pandas to manipulate and process data coming from Home Assistant.\n",
    "\n",
    "When you're going to use Pandas in your Home Automation setup you'll retrieve the needed data from your TimescaleDB Database. Seeing that this is not an option when working in a Google Colab notebook, I extracted some data from my database and made it available as a CSV that we can load in.\n",
    "If you are interested in how to retrieve the data from the database, check the full example at the bottom of this workbook.\n",
    "\n",
    "Good to note is that this notebook is meant as more of a hands-on showcase. I will use a lot of pandas functions that can be a bit confusing, please refer to the official [pandas docs](https://pandas.pydata.org/docs/) for more info."
   ]
  },
  {
   "cell_type": "markdown",
   "metadata": {},
   "source": [
    "## Prerequisites\n",
    "\n",
    "Before we can start using Pandas we need to install the package first. Run the code block below to get pandas install through pip."
   ]
  },
  {
   "cell_type": "code",
   "execution_count": null,
   "metadata": {
    "vscode": {
     "languageId": "shellscript"
    }
   },
   "outputs": [],
   "source": [
    "!pip install pandas"
   ]
  },
  {
   "cell_type": "markdown",
   "metadata": {},
   "source": [
    "After that we import the `pandas` package by running the code block below. "
   ]
  },
  {
   "cell_type": "code",
   "execution_count": 2,
   "metadata": {},
   "outputs": [],
   "source": [
    "import pandas as pd"
   ]
  },
  {
   "cell_type": "markdown",
   "metadata": {},
   "source": [
    "## Retrieving data\n",
    "\n",
    "Now that we have all prerequisites set up we can retrieve the prepared data from the CSV file.\n",
    "\n",
    "The data in this file has 3 columns:\n",
    "\n",
    "* `time` - The time at which the state change was recorded.\n",
    "* `entity_id` - The entity id of the specific sensor.\n",
    "* `state` - The recorded state of the sensor.\n",
    "\n",
    "We retrieve this CSV file by using the `read_csv()` file provided by pandas. This function reads the file and parses it into a `DataFrame` object.\n",
    "\n",
    "We then call the `head()` function on this DataFrame to show its first 5 entries."
   ]
  },
  {
   "cell_type": "code",
   "execution_count": 6,
   "metadata": {},
   "outputs": [
    {
     "data": {
      "text/html": [
       "<div>\n",
       "<style scoped>\n",
       "    .dataframe tbody tr th:only-of-type {\n",
       "        vertical-align: middle;\n",
       "    }\n",
       "\n",
       "    .dataframe tbody tr th {\n",
       "        vertical-align: top;\n",
       "    }\n",
       "\n",
       "    .dataframe thead th {\n",
       "        text-align: right;\n",
       "    }\n",
       "</style>\n",
       "<table border=\"1\" class=\"dataframe\">\n",
       "  <thead>\n",
       "    <tr style=\"text-align: right;\">\n",
       "      <th></th>\n",
       "      <th>time</th>\n",
       "      <th>entity_id</th>\n",
       "      <th>state</th>\n",
       "    </tr>\n",
       "  </thead>\n",
       "  <tbody>\n",
       "    <tr>\n",
       "      <th>0</th>\n",
       "      <td>2024-07-12 19:36:04.882570</td>\n",
       "      <td>sensor.indoor_lux</td>\n",
       "      <td>386.0</td>\n",
       "    </tr>\n",
       "    <tr>\n",
       "      <th>1</th>\n",
       "      <td>2024-07-12 19:36:28.115302</td>\n",
       "      <td>sensor.sun_azimuth</td>\n",
       "      <td>101.1</td>\n",
       "    </tr>\n",
       "    <tr>\n",
       "      <th>2</th>\n",
       "      <td>2024-07-12 19:36:40.420371</td>\n",
       "      <td>sensor.sun_azimuth</td>\n",
       "      <td>227.1</td>\n",
       "    </tr>\n",
       "    <tr>\n",
       "      <th>3</th>\n",
       "      <td>2024-07-12 19:36:49.616662</td>\n",
       "      <td>sensor.indoor_lux</td>\n",
       "      <td>515.0</td>\n",
       "    </tr>\n",
       "    <tr>\n",
       "      <th>4</th>\n",
       "      <td>2024-07-12 19:36:31.442474</td>\n",
       "      <td>sensor.outdoor_temp</td>\n",
       "      <td>19.6</td>\n",
       "    </tr>\n",
       "  </tbody>\n",
       "</table>\n",
       "</div>"
      ],
      "text/plain": [
       "                         time            entity_id  state\n",
       "0  2024-07-12 19:36:04.882570    sensor.indoor_lux  386.0\n",
       "1  2024-07-12 19:36:28.115302   sensor.sun_azimuth  101.1\n",
       "2  2024-07-12 19:36:40.420371   sensor.sun_azimuth  227.1\n",
       "3  2024-07-12 19:36:49.616662    sensor.indoor_lux  515.0\n",
       "4  2024-07-12 19:36:31.442474  sensor.outdoor_temp   19.6"
      ]
     },
     "execution_count": 6,
     "metadata": {},
     "output_type": "execute_result"
    }
   ],
   "source": [
    "# Retrieve the data from CSV\n",
    "df = pd.read_csv('https://raw.githubusercontent.com/moonen-home-automation/colab-notebooks/main/pandas-example/data/sensor_values.csv')\n",
    "# Show the first 5 items\n",
    "df.head()"
   ]
  },
  {
   "cell_type": "markdown",
   "metadata": {},
   "source": [
    "You can now see that the data has been retrieved successfully and the first 5 entries are presented to you.\n",
    "\n",
    "We can also retrieve a specific column of the DataFrame as follows:"
   ]
  },
  {
   "cell_type": "code",
   "execution_count": null,
   "metadata": {},
   "outputs": [],
   "source": [
    "# Only retrieve the `state` column\n",
    "df[\"state\"].head()"
   ]
  },
  {
   "cell_type": "markdown",
   "metadata": {},
   "source": [
    "## Parsing the `time` column\n",
    "\n",
    "It may not be noticeable at first glance but the values in the `time` column are of type `str`, and not of type `datetime`. We need to convert these types for us to be able to effectively use the `time` data later on.\n",
    "\n",
    "Luckily pandas has a function called `to_datetime()` that takes in any time formatted string and tries to convert it to a `datetime` object.\n",
    "\n",
    "When this is done we can use the `dt.round()` function to round up the time values to the nearest minute. This makes the data easier to handle further on."
   ]
  },
  {
   "cell_type": "code",
   "execution_count": 7,
   "metadata": {},
   "outputs": [
    {
     "data": {
      "text/html": [
       "<div>\n",
       "<style scoped>\n",
       "    .dataframe tbody tr th:only-of-type {\n",
       "        vertical-align: middle;\n",
       "    }\n",
       "\n",
       "    .dataframe tbody tr th {\n",
       "        vertical-align: top;\n",
       "    }\n",
       "\n",
       "    .dataframe thead th {\n",
       "        text-align: right;\n",
       "    }\n",
       "</style>\n",
       "<table border=\"1\" class=\"dataframe\">\n",
       "  <thead>\n",
       "    <tr style=\"text-align: right;\">\n",
       "      <th></th>\n",
       "      <th>time</th>\n",
       "      <th>entity_id</th>\n",
       "      <th>state</th>\n",
       "    </tr>\n",
       "  </thead>\n",
       "  <tbody>\n",
       "    <tr>\n",
       "      <th>0</th>\n",
       "      <td>2024-07-12 19:36:00</td>\n",
       "      <td>sensor.indoor_lux</td>\n",
       "      <td>386.0</td>\n",
       "    </tr>\n",
       "    <tr>\n",
       "      <th>1</th>\n",
       "      <td>2024-07-12 19:36:00</td>\n",
       "      <td>sensor.sun_azimuth</td>\n",
       "      <td>101.1</td>\n",
       "    </tr>\n",
       "    <tr>\n",
       "      <th>2</th>\n",
       "      <td>2024-07-12 19:37:00</td>\n",
       "      <td>sensor.sun_azimuth</td>\n",
       "      <td>227.1</td>\n",
       "    </tr>\n",
       "    <tr>\n",
       "      <th>3</th>\n",
       "      <td>2024-07-12 19:37:00</td>\n",
       "      <td>sensor.indoor_lux</td>\n",
       "      <td>515.0</td>\n",
       "    </tr>\n",
       "    <tr>\n",
       "      <th>4</th>\n",
       "      <td>2024-07-12 19:37:00</td>\n",
       "      <td>sensor.outdoor_temp</td>\n",
       "      <td>19.6</td>\n",
       "    </tr>\n",
       "  </tbody>\n",
       "</table>\n",
       "</div>"
      ],
      "text/plain": [
       "                 time            entity_id  state\n",
       "0 2024-07-12 19:36:00    sensor.indoor_lux  386.0\n",
       "1 2024-07-12 19:36:00   sensor.sun_azimuth  101.1\n",
       "2 2024-07-12 19:37:00   sensor.sun_azimuth  227.1\n",
       "3 2024-07-12 19:37:00    sensor.indoor_lux  515.0\n",
       "4 2024-07-12 19:37:00  sensor.outdoor_temp   19.6"
      ]
     },
     "execution_count": 7,
     "metadata": {},
     "output_type": "execute_result"
    }
   ],
   "source": [
    "# Take the values of the time column and parse it into a `datetime` object\n",
    "df[\"time\"] = pd.to_datetime(df[\"time\"])\n",
    "df[\"time\"] = df[\"time\"].dt.round(\"min\")\n",
    "df.head()"
   ]
  },
  {
   "cell_type": "markdown",
   "metadata": {},
   "source": [
    "As you can see in the output the formatting of the time data has changed and they are rounded to the minute."
   ]
  }
 ],
 "metadata": {
  "kernelspec": {
   "display_name": "Python 3",
   "language": "python",
   "name": "python3"
  },
  "language_info": {
   "codemirror_mode": {
    "name": "ipython",
    "version": 3
   },
   "file_extension": ".py",
   "mimetype": "text/x-python",
   "name": "python",
   "nbconvert_exporter": "python",
   "pygments_lexer": "ipython3",
   "version": "3.12.4"
  }
 },
 "nbformat": 4,
 "nbformat_minor": 2
}
